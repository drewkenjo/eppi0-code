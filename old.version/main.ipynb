{
 "cells": [
  {
   "cell_type": "code",
   "execution_count": 1,
   "metadata": {
    "tags": []
   },
   "outputs": [
    {
     "name": "stdout",
     "output_type": "stream",
     "text": [
      "Welcome to JupyROOT 6.24/06\n"
     ]
    }
   ],
   "source": [
    "%reset -f\n",
    "import ROOT\n",
    "ROOT.gErrorIgnoreLevel = ROOT.kWarning\n",
    "\n",
    "ROOT.gStyle.SetLabelFont(42,'xy')\n",
    "ROOT.gStyle.SetLabelSize(0.05,'xy')\n",
    "ROOT.gStyle.SetTitleSize(0.07,'xy')\n",
    "ROOT.gStyle.SetTitleOffset(0.75,'xy')\n",
    "\n",
    "ROOT.gStyle.SetOptFit(1)\n",
    "\n",
    "\n",
    "mggmu, mggsig = 0.1325, 0.0125 \n",
    "gglims = [mggmu+isig*mggsig for isig in [-5,-3,3,5]]\n",
    "pbs = [(1, 0.86), (2,0.89)]\n",
    "\n",
    "%run -i eppi0_columns.py\n",
    "%run -i eppi0_binning_scheme_v3.py\n",
    "%run -i eppi0_bsa_side.py\n",
    "%run -i eppi0_ALU_p1.py\n",
    "\n",
    "def process(fname):\n",
    "    df = ROOT.RDataFrame(\"h22\",fname)\n",
    "    df = define_eppi0_columns_using_proton(df)\n",
    "    shards, df = define_eppi0_bins(df, fname)\n",
    "    return shards\n",
    "\n",
    "shards0 = process(\"../data/eppi0.inb.qa.root\")\n",
    "shards1 = process(\"../data/eppi0.outb.qa.root\")\n",
    "#shards1 = process(\"data/mc.root\")\n",
    "\n",
    "grbsa0 = get_bsas(shards0)\n",
    "grbsa1 = get_bsas(shards1)\n",
    "\n",
    "\n",
    "grbsa0side = get_bsas(shards0)\n",
    "grbsa1side = get_bsas(shards1)\n",
    "grsig0p1 = get_sigs(grbsa0side)\n",
    "grsig1p1 = get_sigs(grbsa1side)\n",
    "\n",
    "\n",
    "#######################\n",
    "%reset_selective -f get_bsas\n",
    "%run -i eppi0_bsa_ggfit.py\n",
    "grbsa0ggfit = get_bsas(shards0)\n",
    "grbsa1ggfit = get_bsas(shards1)\n",
    "grsig0ggfit = get_sigs(grbsa0ggfit, 0.02)\n",
    "grsig1ggfit = get_sigs(grbsa1ggfit, 0.02)\n",
    "\n",
    "#######################\n",
    "%reset_selective -f get_bsas\n",
    "%run -i eppi0_bsa_raw.py\n",
    "grbsa0raw = get_bsas(shards0)\n",
    "grbsa1raw = get_bsas(shards1)\n",
    "grsig0raw = get_sigs(grbsa0raw, -0.03)\n",
    "grsig1raw = get_sigs(grbsa1raw, -0.03)\n",
    "\n",
    "\n",
    "\n",
    "\n",
    "#######################\n",
    "%reset_selective -f get_sigs\n",
    "%run -i eppi0_ALU_p2.py\n",
    "grsig0p2 = get_sigs(grbsa0side, 0.02)\n",
    "grsig1p2 = get_sigs(grbsa1side, 0.02)\n",
    "\n",
    "#######################\n",
    "%reset_selective -f get_sigs\n",
    "%run -i eppi0_ALU_p2_fixed.py\n",
    "grsig0p2f = get_sigs(grbsa0side, 0.06)\n",
    "grsig1p2f = get_sigs(grbsa1side, 0.06)\n",
    "\n",
    "#######################\n",
    "%reset_selective -f get_sigs\n",
    "%run -i eppi0_ALU_p3_fixed.py\n",
    "grsig0p3f = get_sigs(grbsa0side, 0.04)\n",
    "grsig1p3f = get_sigs(grbsa1side, 0.04)\n",
    "\n",
    "#get_sigs(grbsa0)\n",
    "#get_sigs(grbsa1)\n",
    "\n",
    "\n",
    "\n",
    "grsig,grbsa = {},{}\n",
    "for kk in grsig0p1:\n",
    "    grsig[kk] = [(\"raw\", grsig0raw[kk], grsig1raw[kk]), (\"sideband\", grsig0p1[kk],grsig1p1[kk]), (\"fitting\", grsig0ggfit[kk],grsig1ggfit[kk])]\n",
    "    #grsig[kk] = [(\"1 par\", grsig0p1[kk],grsig1p1[kk]), (\"2 pars\", grsig0p2[kk],grsig1p2[kk]), (\"fixed #sigma_{TT}\", grsig0p3f[kk],grsig1p3f[kk])]\n",
    "    grsig[kk] = [(\"INb\", grsig0p3f[kk]), (\"OUTb\", grsig1p3f[kk])]\n",
    "for kk in grbsa0side:\n",
    "    grbsa[kk] = [(\"INb\", grbsa0side[kk]), (\"OUTb\", grbsa1side[kk])]\n",
    "    grbsa[kk] = [(\"raw\", grbsa0raw[kk]), (\"sideband\", grbsa0side[kk]), (\"fitting\", grbsa0ggfit[kk])]\n",
    "    grbsa[kk] = [(\"sideband\", grbsa0side[kk])]\n",
    "    #grbsa[kk] = [(\"sideband\", grbsa0[kk])]"
   ]
  },
  {
   "cell_type": "code",
   "execution_count": 3,
   "metadata": {},
   "outputs": [
    {
     "name": "stdout",
     "output_type": "stream",
     "text": [
      "0 2.6 0.29\n",
      "1 3.03 0.39\n",
      "2 4.68 0.37\n",
      "3 4.15 0.51\n",
      "4 6.7 0.57\n"
     ]
    }
   ],
   "source": [
    "from collections import defaultdict\n",
    "grGK = defaultdict(lambda: ROOT.TGraph())\n",
    "\n",
    "ikin = 0\n",
    "with open(\"../vpk/gk_v3.dat\") as ff:\n",
    "    for line in ff:\n",
    "        #q2,xb,tt,eps,alu0,alu = [float(vv) for vv in line.split()]\n",
    "        q2,xb,tt,alu,eps = [float(vv) for vv in line.split()]\n",
    "        gr = grGK[(q2,xb)]\n",
    "        if gr.GetN()==0:\n",
    "            grGK[(ikin,)] = gr\n",
    "            print(ikin,q2,xb)\n",
    "            ikin+=1\n",
    "        gr.SetPoint(gr.GetN(), -tt, alu/math.sqrt(eps*(1-eps)))"
   ]
  },
  {
   "cell_type": "code",
   "execution_count": 4,
   "metadata": {},
   "outputs": [
    {
     "name": "stderr",
     "output_type": "stream",
     "text": [
      "Warning in <TCanvas::Constructor>: Deleting canvas with same name: c1\n"
     ]
    }
   ],
   "source": [
    "lat = ROOT.TLatex()\n",
    "lat.SetTextSize(0.05)\n",
    "c1 = ROOT.TCanvas(\"c1\",\"c1\",1100,800)\n",
    "c1.SetGrid()\n",
    "c1.SetMargin(0.12,0.001,0.12,0.001)\n",
    "c1.Print('grsig.pdf[')\n",
    "for kk in sorted(grsig):\n",
    "    fr = c1.DrawFrame(0,-0.04,2,0.312)\n",
    "    \n",
    "    #q2,xb = shards0[kk]\n",
    "    #q2,xb = q2.GetValue(), xb.GetValue()\n",
    "    #print(kk, q2,xb)\n",
    "    #fr.SetTitle(\"Q^{{2}}={:.2f}, x_{{B}}={:.3f}\".format(q2,xb))\n",
    "    fr.SetTitleSize(0.06,\"xy\")\n",
    "    fr.SetTitleOffset(0.8,\"x\")\n",
    "    fr.SetTitleOffset(0.9,\"y\")\n",
    "    fr.SetTitle(\";-t [GeV^{2}];d#sigma_{LT'}/d#sigma_{0}\")\n",
    "    fr1 = fr.Clone(\"fr\")\n",
    "    fr.SetAxisColor(14,\"xy\")\n",
    "    fr1.Draw(\"sameaxis\")\n",
    "\n",
    "    grGK[kk].Draw(\"C\")\n",
    "    grGK[kk].SetLineColor(4)\n",
    "    grGK[kk].SetLineWidth(3)\n",
    "    cols = [0,1,2,4,6,7]\n",
    "    igr = 0;\n",
    "    for grs in grsig[kk]:\n",
    "        grs = list(grs)\n",
    "        name = grs.pop(0)\n",
    "        igr += 1\n",
    "        for gr in grs:\n",
    "            gr.Draw(\"P\")\n",
    "            gr.SetMarkerStyle(19+igr)\n",
    "            gr.SetMarkerColor(cols[igr])\n",
    "            gr.SetLineColor(cols[igr])\n",
    "            gr.SetMarkerSize(2)\n",
    "            gr.SetLineWidth(2)\n",
    "            q2,xb = gr.qmean,gr.xmean\n",
    "\n",
    "        lat.DrawLatexNDC(0.45,1-igr*0.08,\"{}: Q^{{2}}={:.2f} [GeV^{{2}}], x_{{B}}={:.2f}\".format(name,q2,xb)).SetTextColor(gr.GetLineColor())\n",
    "        #if igr==1:\n",
    "        #    lat.DrawLatexNDC(0.45,1-igr*0.08,\"Q^{{2}}={:.2f} [GeV^{{2}}], x_{{B}}={:.2f}\".format(q2,xb)).SetTextColor(gr.GetLineColor())\n",
    "    c1.Print('grsig.pdf')\n",
    "c1.Print('grsig.pdf]')\n",
    "#!mogrify -format png -trim -transparent white grsig.pdf"
   ]
  },
  {
   "cell_type": "code",
   "execution_count": 6,
   "metadata": {},
   "outputs": [
    {
     "name": "stderr",
     "output_type": "stream",
     "text": [
      "Warning in <TCanvas::Constructor>: Deleting canvas with same name: c2\n"
     ]
    }
   ],
   "source": [
    "c2 = ROOT.TCanvas(\"c2\",\"c2\",2400,350)\n",
    "#c2.Divide(3,1,0.0001,0.0001)\n",
    "c2.Divide(3,1,0,0)\n",
    "c2.Print(\"grbsa.pdf[\")\n",
    "frs=[]\n",
    "for tpl in sorted(grbsa0side):\n",
    "    iqx,itt = tpl\n",
    "    fr = c2.cd(itt+1).DrawFrame(0,-0.28,360,0.28)\n",
    "    c2.cd(itt+1).SetGrid()\n",
    "    fr1 = fr.Clone(fr.GetName()+\".itt\"+str(itt))\n",
    "    fr1.Draw(\"same axis\")\n",
    "    frs.append(fr1)\n",
    "    fr.SetAxisColor(16,'xy')\n",
    "    fr.SetTitle(\";#phi;BSA\")\n",
    "    fr.SetLabelSize(0.08,\"xy\")\n",
    "    fr.SetTitleSize(0.08,\"xy\")\n",
    "    fr.SetTitleOffset(0.5,\"x\")\n",
    "    fr.SetTitleOffset(0.6,\"y\")\n",
    "    #fr.SetTitle(\"iqx={}, itt={}\".format(iqx,itt))\n",
    "    \n",
    "    igr = 0\n",
    "    for name,gr in grbsa[tpl]:\n",
    "        igr+=1\n",
    "        gr.UseCurrentStyle()\n",
    "        gr.SetMarkerStyle(20)\n",
    "        gr.SetMarkerSize(2)\n",
    "        gr.SetMarkerColor(igr)\n",
    "        gr.SetLineColor(igr)\n",
    "        for f1 in gr.GetListOfFunctions():\n",
    "            f1.SetLineColor(gr.GetLineColor())\n",
    "            f1.SetLineWidth(1)\n",
    "        gr.Draw(\"P\")\n",
    "\n",
    "    if itt==2:\n",
    "        c2.Print(\"grbsa.pdf\")\n",
    "\n",
    "c2.Print(\"grbsa.pdf]\")"
   ]
  },
  {
   "cell_type": "code",
   "execution_count": null,
   "metadata": {},
   "outputs": [],
   "source": []
  },
  {
   "cell_type": "code",
   "execution_count": null,
   "metadata": {},
   "outputs": [],
   "source": []
  },
  {
   "cell_type": "code",
   "execution_count": null,
   "metadata": {},
   "outputs": [],
   "source": []
  },
  {
   "cell_type": "code",
   "execution_count": null,
   "metadata": {},
   "outputs": [],
   "source": []
  },
  {
   "cell_type": "code",
   "execution_count": null,
   "metadata": {},
   "outputs": [],
   "source": []
  },
  {
   "cell_type": "code",
   "execution_count": null,
   "metadata": {},
   "outputs": [],
   "source": []
  },
  {
   "cell_type": "code",
   "execution_count": null,
   "metadata": {},
   "outputs": [],
   "source": []
  },
  {
   "cell_type": "code",
   "execution_count": null,
   "metadata": {},
   "outputs": [],
   "source": []
  },
  {
   "cell_type": "code",
   "execution_count": null,
   "metadata": {},
   "outputs": [],
   "source": []
  },
  {
   "cell_type": "code",
   "execution_count": null,
   "metadata": {},
   "outputs": [],
   "source": []
  }
 ],
 "metadata": {
  "kernelspec": {
   "display_name": "Python 3 (ipykernel)",
   "language": "python",
   "name": "python3"
  },
  "language_info": {
   "codemirror_mode": {
    "name": "ipython",
    "version": 3
   },
   "file_extension": ".py",
   "mimetype": "text/x-python",
   "name": "python",
   "nbconvert_exporter": "python",
   "pygments_lexer": "ipython3",
   "version": "3.9.7"
  },
  "toc-autonumbering": false,
  "toc-showcode": false,
  "toc-showmarkdowntxt": true
 },
 "nbformat": 4,
 "nbformat_minor": 4
}
