{
 "cells": [
  {
   "cell_type": "markdown",
   "metadata": {},
   "source": [
    "# Radiative effects"
   ]
  },
  {
   "cell_type": "code",
   "execution_count": 12,
   "metadata": {},
   "outputs": [],
   "source": [
    "%reset -f\n",
    "\n",
    "import ROOT\n",
    "\n",
    "ROOT.gStyle.SetOptFit(1)\n",
    "ROOT.gStyle.SetOptStat(0)\n",
    "ROOT.gStyle.SetGridColor(16)\n",
    "ROOT.gStyle.SetPadGridX(1)\n",
    "ROOT.gStyle.SetPadGridY(1)\n",
    "ROOT.gStyle.SetPadRightMargin(0)\n",
    "ROOT.gStyle.SetPadBottomMargin(0.12)\n",
    "ROOT.gStyle.SetPadLeftMargin(0.07)\n",
    "ROOT.gStyle.SetTitleOffset(0.7, 'Y')\n",
    "ROOT.gStyle.SetTitleSize(0.06,'T')\n",
    "ROOT.gStyle.SetTitleSize(0.05,'xy')\n",
    "ROOT.gStyle.SetLabelSize(0.043,'xy')\n",
    "\n",
    "ROOT.TH1.AddDirectory(0)\n",
    "\n",
    "%run -i eppi0_columns.py\n",
    "%run -i eppi0_binning_scheme_v3.py\n",
    "\n",
    "rdfs = []\n",
    "for fname in ['data/lvl2_eppi0.inb.mc.aaorad.smear.root']:\n",
    "    df = ROOT.RDataFrame(\"h22\", fname)\n",
    "    df = define_eppi0_columns_using_proton(df)\n",
    "    if 'mc' in fname:\n",
    "        df = df.Define(\"ihel\",\"1\")\n",
    "    df = define_eppi0_bins(df, fname)\n",
    "    df = process_eppi0_bins(df, fname)\n",
    "    df = df.Filter(\"abs(dpt)<0.3 && abs(dphi)<4 && dpz>-0.5 && dpz<0.9\")\n",
    "    #df = df.Filter(\"abs(dpx)<0.3 && abs(dpy)<0.3 && abs(dphi)<4 && dpz>-0.5 && dpz<0.9 && mm2>-0.3 && mm2<0.4\")\n",
    "    df = df.Filter(\"&&\".join(f\"(((int)status)&(1<<{i}))\" for i in [gloosest,prodc]))\n",
    "    df = df.Filter(\"thp<44.106+-6.625*pp+1.438*pp*pp\")\n",
    "\n",
    "    df = df.Define(\"pg\", \"array<double,2>{pg1,pg2}\")\n",
    "    df = df.Define(\"thg\", \"array<double,2>{thg1,thg2}\")\n",
    "    df = df.Define(\"fig\", \"array<double,2>{fig1,fig2}\")\n",
    "    df = df.Define(\"gvals\", \"\"\"\n",
    "    double Mpi0 = 0.135;\n",
    "    auto beam = ROOT::Math::PxPyPzMVector(0,0,10.6,0);\n",
    "    auto targ = ROOT::Math::PxPyPzMVector(0,0,0,0.938);\n",
    "    auto ele0 = ROOT::Math::PxPyPzMVector(ex0,ey0,ez0,0);\n",
    "    auto pro0 = ROOT::Math::PxPyPzMVector(px0,py0,pz0,0.938);\n",
    "    auto grad = ROOT::Math::PxPyPzMVector(gx0,gy0,gz0,0);\n",
    "    auto V = targ-ele0-pro0;\n",
    "    \n",
    "    double e0 = (Mpi0*Mpi0 - V.M2())/(V.E() - V.Z())/2;\n",
    "    auto beam0 = ROOT::Math::PxPyPzMVector(0,0,e0,0);\n",
    "    \n",
    "    double q0 = -(beam0-ele0).M2();\n",
    "    double q1 = -(beam-ele0).M2();\n",
    "    \n",
    "    double mm0 = (beam+targ-ele0-pro0).M2();\n",
    "    double mm1 = (beam+targ-grad-ele0-pro0).M2();\n",
    "    \n",
    "    return vector<double> {e0, q0,q2,mm0,mm1};\n",
    "    \"\"\")\n",
    "    \n",
    "    df = df.Define(\"e0\",\"gvals[0]\")\n",
    "    df = df.Define(\"q0\",\"gvals[1]\")\n",
    "    df = df.Define(\"q1\",\"gvals[2]\")\n",
    "    df = df.Define(\"mm0\",\"gvals[3]\")\n",
    "    df = df.Define(\"mm1\",\"gvals[4]\")\n",
    "    rdfs.append(df)\n",
    "    "
   ]
  },
  {
   "cell_type": "code",
   "execution_count": 13,
   "metadata": {},
   "outputs": [],
   "source": [
    "hmm2s = [df.Histo1D((\"hmm2\",\"MM^{2}_{epX};MM^{2} [GeV^{2}]\",200,0,0.3), \"mm0\") for df in rdfs]"
   ]
  },
  {
   "cell_type": "code",
   "execution_count": 14,
   "metadata": {},
   "outputs": [
    {
     "data": {
      "image/png": "[encoded data removed]",
      "text/plain": [
       "<IPython.core.display.Image object>"
      ]
     },
     "metadata": {},
     "output_type": "display_data"
    }
   ],
   "source": [
    "c1 = ROOT.TCanvas(\"c1\",\"c1\",1000,600)\n",
    "c1.SetTopMargin(0)\n",
    "c1.SetRightMargin(0)\n",
    "\n",
    "c1.Draw()\n",
    "\n",
    "h1 = hmm2s[0]\n",
    "h1.Draw()\n",
    "\n",
    "c1.Print(\"pdf/aaorad.mm2.pdf\")"
   ]
  },
  {
   "cell_type": "markdown",
   "metadata": {},
   "source": [
    "________________________________\n",
    "________________________________\n",
    "________________________________"
   ]
  },
  {
   "cell_type": "markdown",
   "metadata": {},
   "source": [
    "# Radiative effects (in dev)"
   ]
  },
  {
   "cell_type": "code",
   "execution_count": 20,
   "metadata": {},
   "outputs": [],
   "source": [
    "%reset -f\n",
    "\n",
    "import ROOT\n",
    "\n",
    "ROOT.gStyle.SetOptFit(1)\n",
    "ROOT.gStyle.SetOptStat(0)\n",
    "ROOT.gStyle.SetGridColor(16)\n",
    "ROOT.gStyle.SetPadGridX(1)\n",
    "ROOT.gStyle.SetPadGridY(1)\n",
    "ROOT.gStyle.SetPadRightMargin(0)\n",
    "ROOT.gStyle.SetPadBottomMargin(0.12)\n",
    "ROOT.gStyle.SetPadLeftMargin(0.07)\n",
    "ROOT.gStyle.SetTitleOffset(0.7, 'Y')\n",
    "ROOT.gStyle.SetTitleSize(0.06,'T')\n",
    "ROOT.gStyle.SetTitleSize(0.05,'xy')\n",
    "ROOT.gStyle.SetLabelSize(0.043,'xy')\n",
    "\n",
    "ROOT.TH1.AddDirectory(0)\n",
    "\n",
    "%run -i eppi0_columns.py\n",
    "%run -i eppi0_binning_scheme_v3.py\n",
    "\n",
    "rdfs = []\n",
    "for fname in ['data/lvl2_eppi0.inb.mc.aaorad.smear.root']:\n",
    "    df = ROOT.RDataFrame(\"h22\", fname)\n",
    "    df = define_eppi0_columns_using_proton(df)\n",
    "    if 'mc' in fname:\n",
    "        df = df.Define(\"ihel\",\"1\")\n",
    "    df = define_eppi0_bins(df, fname)\n",
    "    df = process_eppi0_bins(df, fname)\n",
    "    df = df.Filter(\"abs(dpt)<0.3 && abs(dphi)<4 && dpz>-0.5 && dpz<0.9\")\n",
    "    #df = df.Filter(\"abs(dpx)<0.3 && abs(dpy)<0.3 && abs(dphi)<4 && dpz>-0.5 && dpz<0.9 && mm2>-0.3 && mm2<0.4\")\n",
    "    df = df.Filter(\"&&\".join(f\"(((int)status)&(1<<{i}))\" for i in [gloosest,prodc]))\n",
    "    df = df.Filter(\"thp<44.106+-6.625*pp+1.438*pp*pp\")\n",
    "    df = df.Filter(\"sqrt(gx0*gx0 + gy0*gy0 + gz0*gz0)>0.0001\")\n",
    "\n",
    "    df = df.Define(\"pg\", \"array<double,2>{pg1,pg2}\")\n",
    "    df = df.Define(\"thg\", \"array<double,2>{thg1,thg2}\")\n",
    "    df = df.Define(\"fig\", \"array<double,2>{fig1,fig2}\")\n",
    "    df = df.Define(\"gvals\", \"\"\"\n",
    "    double Mpi0 = 0.135;\n",
    "    auto beam = ROOT::Math::PxPyPzMVector(0,0,10.6,0);\n",
    "    auto targ = ROOT::Math::PxPyPzMVector(0,0,0,0.938);\n",
    "    auto ele0 = ROOT::Math::PxPyPzMVector(ex0,ey0,ez0,0);\n",
    "    auto pro0 = ROOT::Math::PxPyPzMVector(px0,py0,pz0,0.938);\n",
    "    auto grad = ROOT::Math::PxPyPzMVector(gx0,gy0,gz0,0);\n",
    "    auto V = targ-ele0-pro0;\n",
    "    \n",
    "    double e0 = (Mpi0*Mpi0 - V.M2())/(V.E() - V.Z())/2;\n",
    "    auto beam0 = ROOT::Math::PxPyPzMVector(0,0,e0,0);\n",
    "    \n",
    "    double q0 = -(beam0-ele0).M2();\n",
    "    double q1 = -(beam-ele0).M2();\n",
    "    \n",
    "    double mm0 = (beam+targ-grad-ele0-pro0).M2();\n",
    "    double mm1 = (beam+targ-grad-ele0-pro0).M2();\n",
    "    \n",
    "    return vector<double> {e0, q0,q2,mm0,mm1};\n",
    "    \"\"\")\n",
    "    \n",
    "    df = df.Define(\"e0\",\"gvals[0]\")\n",
    "    df = df.Define(\"q0\",\"gvals[1]\")\n",
    "    df = df.Define(\"q1\",\"gvals[2]\")\n",
    "    df = df.Define(\"mm0\",\"gvals[3]\")\n",
    "    df = df.Define(\"mm1\",\"gvals[4]\")\n",
    "    rdfs.append(df)\n",
    "    "
   ]
  },
  {
   "cell_type": "code",
   "execution_count": 21,
   "metadata": {},
   "outputs": [],
   "source": [
    "hmm2s = [df.Histo1D((\"hmm2\",\"MM^{2}_{epX};MM^{2} [GeV^{2}]\",200,0,0.3), \"mm0\") for df in rdfs]"
   ]
  },
  {
   "cell_type": "code",
   "execution_count": 22,
   "metadata": {},
   "outputs": [
    {
     "name": "stdout",
     "output_type": "stream",
     "text": [
      "0.018857420947821356\n"
     ]
    },
    {
     "data": {
      "image/png": "[encoded data removed]",
      "text/plain": [
       "<IPython.core.display.Image object>"
      ]
     },
     "metadata": {},
     "output_type": "display_data"
    }
   ],
   "source": [
    "c1 = ROOT.TCanvas(\"c1\",\"c1\",1000,600)\n",
    "c1.SetTopMargin(0)\n",
    "c1.SetRightMargin(0)\n",
    "\n",
    "c1.Draw()\n",
    "\n",
    "h1 = hmm2s[0]\n",
    "h1.Draw()\n",
    "print(h1.GetMean())\n",
    "\n",
    "he0 = rdfs[0].Histo1D(\"e0\")\n",
    "he0.Draw()\n",
    "\n"
   ]
  },
  {
   "cell_type": "code",
   "execution_count": null,
   "metadata": {},
   "outputs": [],
   "source": []
  },
  {
   "cell_type": "code",
   "execution_count": null,
   "metadata": {},
   "outputs": [],
   "source": []
  },
  {
   "cell_type": "code",
   "execution_count": null,
   "metadata": {},
   "outputs": [],
   "source": []
  },
  {
   "cell_type": "code",
   "execution_count": null,
   "metadata": {},
   "outputs": [],
   "source": []
  },
  {
   "cell_type": "code",
   "execution_count": null,
   "metadata": {},
   "outputs": [],
   "source": []
  },
  {
   "cell_type": "code",
   "execution_count": null,
   "metadata": {},
   "outputs": [],
   "source": []
  },
  {
   "cell_type": "code",
   "execution_count": null,
   "metadata": {},
   "outputs": [],
   "source": []
  },
  {
   "cell_type": "code",
   "execution_count": null,
   "metadata": {},
   "outputs": [],
   "source": []
  }
 ],
 "metadata": {
  "kernelspec": {
   "display_name": "Python 3 (ipykernel)",
   "language": "python",
   "name": "python3"
  },
  "language_info": {
   "codemirror_mode": {
    "name": "ipython",
    "version": 3
   },
   "file_extension": ".py",
   "mimetype": "text/x-python",
   "name": "python",
   "nbconvert_exporter": "python",
   "pygments_lexer": "ipython3",
   "version": "3.10.4"
  },
  "toc-autonumbering": true,
  "toc-showmarkdowntxt": true
 },
 "nbformat": 4,
 "nbformat_minor": 4
}
