{
 "cells": [
  {
   "cell_type": "code",
   "execution_count": 7,
   "id": "cdbb281b-f40c-441b-838f-4b944371e5d2",
   "metadata": {},
   "outputs": [
    {
     "data": {
      "text/plain": [
       "<cppyy.gbl.ROOT.RDF.RResultPtr<ROOT::RDF::RInterface<ROOT::Detail::RDF::RLoopManager,void> > object at 0x55f7b6dd7990>"
      ]
     },
     "execution_count": 7,
     "metadata": {},
     "output_type": "execute_result"
    }
   ],
   "source": [
    "%reset -f\n",
    "\n",
    "import ROOT, json\n",
    "ROOT.gErrorIgnoreLevel = ROOT.kWarning\n",
    "\n",
    "ROOT.ROOT.EnableImplicitMT(6)\n",
    "\n",
    "ROOT.gStyle.SetOptFit(1)\n",
    "ROOT.gStyle.SetOptStat(0)\n",
    "\n",
    "ROOT.gStyle.SetGridColor(17)\n",
    "ROOT.gStyle.SetPadGridX(1)\n",
    "ROOT.gStyle.SetPadGridY(1)\n",
    "\n",
    "ROOT.gStyle.SetPadRightMargin(0.01)\n",
    "ROOT.gStyle.SetPadLeftMargin(0.075)\n",
    "ROOT.gStyle.SetPadBottomMargin(0.12)\n",
    "\n",
    "ROOT.gStyle.SetTitleFont(42,'xy')\n",
    "ROOT.gStyle.SetTitleFont(42,'T')\n",
    "ROOT.gStyle.SetTitleSize(0.075, 'XY')\n",
    "ROOT.gStyle.SetTitleSize(0.1, 'T')\n",
    "ROOT.gStyle.SetTitleOffset(0.8, 'X')\n",
    "ROOT.gStyle.SetTitleOffset(0.45, 'Y')\n",
    "ROOT.gStyle.SetLabelFont(42,'xy')\n",
    "ROOT.gStyle.SetLabelSize(0.07, 'XY')\n",
    "\n",
    "ROOT.gStyle.SetMarkerSize(3)\n",
    "ROOT.TH1.AddDirectory(0)\n",
    "\n",
    "\n",
    "%run -i eppi0_columns.py\n",
    "%run -i eppi0_binning_scheme_v3.py\n",
    "%run -i eppi0_bsa.py\n",
    "\n",
    "\n",
    "rdf = ROOT.RDataFrame(\"h22\", \"data/lvl2_eppi0.inb.qa.eloss.root\")\n",
    "cols = rdf.GetColumnNames()\n",
    "rdf = define_eppi0_columns_using_proton(rdf)\n",
    "\n",
    "cut = \"&&\".join(f\"(((int)status)&(1<<{i}))\" for i in [ecloose,prodc,gloosest])\n",
    "cut += \"&& abs(dphi)<4 && dpz>-0.5 && dpz<0.9\"\n",
    "cut += \"&& abs(dpt)<0.3\"\n",
    "cut += \"&& thp<44.106+-6.625*pp+1.438*pp*pp\"\n",
    "\n",
    "rdf = rdf.Filter(cut)\n",
    "\n",
    "    rdf.Snapshot(\"h22\",\"data/lvl2_eppi0.inb.qa.eloss.exclusiveselection.root\",cols)\n"
   ]
  },
  {
   "cell_type": "code",
   "execution_count": null,
   "id": "61ea9a2c-97ec-4593-b214-49ea5c5cda40",
   "metadata": {},
   "outputs": [],
   "source": []
  }
 ],
 "metadata": {
  "kernelspec": {
   "display_name": "Python 3 (ipykernel)",
   "language": "python",
   "name": "python3"
  },
  "language_info": {
   "codemirror_mode": {
    "name": "ipython",
    "version": 3
   },
   "file_extension": ".py",
   "mimetype": "text/x-python",
   "name": "python",
   "nbconvert_exporter": "python",
   "pygments_lexer": "ipython3",
   "version": "3.10.2"
  }
 },
 "nbformat": 4,
 "nbformat_minor": 5
}
