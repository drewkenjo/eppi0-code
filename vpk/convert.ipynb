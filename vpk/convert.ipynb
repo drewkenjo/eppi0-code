{
 "cells": [
  {
   "cell_type": "code",
   "execution_count": 41,
   "metadata": {},
   "outputs": [
    {
     "name": "stdout",
     "output_type": "stream",
     "text": [
      "['2.60_0.29.dat', 'gk_v0.dat', '3.03_0.39.dat', 'gk_output.dat', '4.68_0.37.dat', '6.70_0.57.dat', 'gk_input.dat', 'gk_v2.dat', '4.15_0.51.dat', 'gk_v3.dat', 'gk_v4.dat']\n"
     ]
    },
    {
     "name": "stderr",
     "output_type": "stream",
     "text": [
      "Warning in <TCanvas::Constructor>: Deleting canvas with same name: c1\n",
      "Info in <TCanvas::Print>: pdf file ratio.pdf has been created\n",
      "Info in <TCanvas::Print>: Current canvas added to pdf file ratio.pdf\n",
      "Info in <TCanvas::Print>: Current canvas added to pdf file ratio.pdf\n",
      "Info in <TCanvas::Print>: Current canvas added to pdf file ratio.pdf\n",
      "Info in <TCanvas::Print>: Current canvas added to pdf file ratio.pdf\n",
      "Info in <TCanvas::Print>: Current canvas added to pdf file ratio.pdf\n",
      "Info in <TCanvas::Print>: pdf file ratio.pdf has been closed\n"
     ]
    }
   ],
   "source": [
    "import glob, ROOT\n",
    "\n",
    "print(glob.glob(\"*.dat\"))\n",
    "\n",
    "grs = []\n",
    "\n",
    "with open(\"gk_v3.dat\",\"w\") as fout:\n",
    "    for fn in ['2.60_0.29.dat', '3.03_0.39.dat', '4.68_0.37.dat', '4.15_0.51.dat', '6.70_0.57.dat']:\n",
    "        grs.append((ROOT.TGraph(), ROOT.TGraph(), ROOT.TGraph(), ROOT.TGraph(), ROOT.TGraph(), ROOT.TGraph()))\n",
    "        gr0t,gr0tt,gr1t,gr1tt,gr0h,gr1h = grs[-1]\n",
    "        with open(fn) as ff:\n",
    "            for line in ff:\n",
    "                q2,xb,mt,eps,sl,st,stt,alua,alu,slt = [float(vv) for vv in line.split()]\n",
    "                tt = -mt\n",
    "                htterm = st+stt\n",
    "                vpk = !./vpk_dvmpx $mt $xb $q2 0 10.6041\n",
    "                if vpk:\n",
    "                    gr0t.SetPoint(gr0t.GetN(), tt, st)\n",
    "                    gr0tt.SetPoint(gr0tt.GetN(), tt, stt)\n",
    "                    gr0h.SetPoint(gr0h.GetN(), tt, stt+st)\n",
    "\n",
    "                    eps,st,sl,stt,slt = [float(vv) for vv in vpk[0].split()]\n",
    "                    rHT = (st+stt)/htterm\n",
    "                    fout.write(\"{} {} {} {} {}\\n\".format(q2,xb,mt,alu,eps))\n",
    "                    gr1t.SetPoint(gr1t.GetN(), tt, st)\n",
    "                    gr1tt.SetPoint(gr1tt.GetN(), tt, stt)\n",
    "                    gr1h.SetPoint(gr1h.GetN(), tt, stt+st)\n",
    "\n",
    "c1 = ROOT.TCanvas(\"c1\",\"c1\",1100,800)\n",
    "c1.Print(\"ratio.pdf[\")\n",
    "for gr0t,gr0tt,gr1t,gr1tt,gr0h,gr1h in grs:\n",
    "    gr1t.SetLineStyle(2)\n",
    "    gr1tt.SetLineStyle(2)\n",
    "    gr1h.SetLineStyle(2)\n",
    "    \n",
    "    gr0h.SetLineColor(2)\n",
    "    gr1h.SetLineColor(2)\n",
    "    mgr=ROOT.TMultiGraph()\n",
    "    mgr.Add(gr0t)\n",
    "    mgr.Add(gr0tt)\n",
    "    mgr.Add(gr1t)\n",
    "    mgr.Add(gr1tt)\n",
    "    mgr.Add(gr0h)\n",
    "    mgr.Add(gr1h)\n",
    "    mgr.Draw(\"AL\")\n",
    "    c1.Print(\"ratio.pdf\")\n",
    "c1.Print(\"ratio.pdf]\")"
   ]
  },
  {
   "cell_type": "code",
   "execution_count": 40,
   "metadata": {},
   "outputs": [
    {
     "name": "stdout",
     "output_type": "stream",
     "text": [
      "['2.60_0.29.dat', 'gk_v0.dat', '3.03_0.39.dat', 'gk_output.dat', '4.68_0.37.dat', '6.70_0.57.dat', 'gk_input.dat', 'gk_v2.dat', '4.15_0.51.dat', 'gk_v3.dat', 'gk_v4.dat']\n"
     ]
    },
    {
     "name": "stderr",
     "output_type": "stream",
     "text": [
      "Warning in <TCanvas::Constructor>: Deleting canvas with same name: c1\n",
      "Info in <TCanvas::Print>: pdf file ratio.pdf has been created\n",
      "Info in <TCanvas::Print>: Current canvas added to pdf file ratio.pdf\n",
      "Info in <TCanvas::Print>: Current canvas added to pdf file ratio.pdf\n",
      "Info in <TCanvas::Print>: Current canvas added to pdf file ratio.pdf\n",
      "Info in <TCanvas::Print>: Current canvas added to pdf file ratio.pdf\n",
      "Info in <TCanvas::Print>: Current canvas added to pdf file ratio.pdf\n",
      "Info in <TCanvas::Print>: pdf file ratio.pdf has been closed\n"
     ]
    }
   ],
   "source": [
    "import glob, ROOT\n",
    "\n",
    "print(glob.glob(\"*.dat\"))\n",
    "\n",
    "grs = []\n",
    "\n",
    "with open(\"gk_v4.dat\",\"w\") as fout:\n",
    "    for fn in ['2.60_0.29.dat', '3.03_0.39.dat', '4.68_0.37.dat', '4.15_0.51.dat', '6.70_0.57.dat']:\n",
    "        grs.append((ROOT.TGraph(), ROOT.TGraph(), ROOT.TGraph(), ROOT.TGraph(), ROOT.TGraph(), ROOT.TGraph()))\n",
    "        gr0t,gr0tt,gr1t,gr1tt,gr0h,gr1h = grs[-1]\n",
    "        with open(fn) as ff:\n",
    "            for line in ff:\n",
    "                q2,xb,mt,eps,sl,st,stt,alua,alu,slt = [float(vv) for vv in line.split()]\n",
    "                tt = -mt\n",
    "                vpk = !./vpk_dvmpx $mt $xb $q2 0 10.6041\n",
    "                if vpk:\n",
    "                    gr0t.SetPoint(gr0t.GetN(), tt, st)\n",
    "                    gr0tt.SetPoint(gr0tt.GetN(), tt, stt)\n",
    "                    gr0h.SetPoint(gr0h.GetN(), tt, stt+st)\n",
    "\n",
    "                    slt0 = slt\n",
    "                    eps,st,sl,stt,slt = [float(vv) for vv in vpk[0].split()]\n",
    "                    rHT = slt/slt0\n",
    "                    fout.write(\"{} {} {} {} {}\\n\".format(q2,xb,mt,alu*rHT,eps))\n",
    "                    gr1t.SetPoint(gr1t.GetN(), tt, st)\n",
    "                    gr1tt.SetPoint(gr1tt.GetN(), tt, stt)\n",
    "                    gr1h.SetPoint(gr1h.GetN(), tt, stt+st)\n",
    "\n",
    "c1 = ROOT.TCanvas(\"c1\",\"c1\",1100,800)\n",
    "c1.Print(\"ratio.pdf[\")\n",
    "for gr0t,gr0tt,gr1t,gr1tt,gr0h,gr1h in grs:\n",
    "    gr1t.SetLineStyle(2)\n",
    "    gr1tt.SetLineStyle(2)\n",
    "    gr1h.SetLineStyle(2)\n",
    "    \n",
    "    gr0h.SetLineColor(2)\n",
    "    gr1h.SetLineColor(2)\n",
    "    mgr=ROOT.TMultiGraph()\n",
    "    mgr.Add(gr0t)\n",
    "    mgr.Add(gr0tt)\n",
    "    mgr.Add(gr1t)\n",
    "    mgr.Add(gr1tt)\n",
    "    mgr.Add(gr0h)\n",
    "    mgr.Add(gr1h)\n",
    "    mgr.Draw(\"AL\")\n",
    "    c1.Print(\"ratio.pdf\")\n",
    "c1.Print(\"ratio.pdf]\")"
   ]
  },
  {
   "cell_type": "code",
   "execution_count": null,
   "metadata": {},
   "outputs": [],
   "source": []
  },
  {
   "cell_type": "code",
   "execution_count": null,
   "metadata": {},
   "outputs": [],
   "source": []
  },
  {
   "cell_type": "code",
   "execution_count": null,
   "metadata": {},
   "outputs": [],
   "source": []
  }
 ],
 "metadata": {
  "kernelspec": {
   "display_name": "Python 3 (ipykernel)",
   "language": "python",
   "name": "python3"
  },
  "language_info": {
   "codemirror_mode": {
    "name": "ipython",
    "version": 3
   },
   "file_extension": ".py",
   "mimetype": "text/x-python",
   "name": "python",
   "nbconvert_exporter": "python",
   "pygments_lexer": "ipython3",
   "version": "3.9.7"
  }
 },
 "nbformat": 4,
 "nbformat_minor": 4
}
